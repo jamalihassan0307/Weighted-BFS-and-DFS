{
  "nbformat": 4,
  "nbformat_minor": 0,
  "metadata": {
    "colab": {
      "provenance": []
    },
    "kernelspec": {
      "name": "python3",
      "display_name": "Python 3"
    },
    "language_info": {
      "name": "python"
    }
  },
  "cells": [
    {
      "cell_type": "code",
      "execution_count": 6,
      "metadata": {
        "colab": {
          "base_uri": "https://localhost:8080/"
        },
        "id": "wUryJPK-8hRk",
        "outputId": "69670c85-05ae-4410-80f4-3e4cdd29fd5f"
      },
      "outputs": [
        {
          "output_type": "stream",
          "name": "stdout",
          "text": [
            "Found the shortest way! It's: ['S', 'B', 'G']\n"
          ]
        }
      ],
      "source": [
        "# Name: Ali Hassan\n",
        "# Student ID: F22BDOCS1E02011\n",
        "# Assignment: Assignment 1 - BFS.ipynb\n",
        "\n",
        "\n",
        "\n",
        "#Breadth-First Search (BFS) code write in python\n",
        "def find_shortest_way(places, start_point, end_point):\n",
        "\n",
        " check_these_places = [(start_point, [start_point])] # places to look at later\n",
        "\n",
        " places_i_already_went = set() # don't go back!\n",
        "\n",
        "\n",
        "\n",
        " while check_these_places:\n",
        "\n",
        "  this_place_now, the_path_i_got = check_these_places.pop(0) # first one in, first one out?\n",
        "\n",
        "\n",
        "\n",
        "  if this_place_now not in places_i_already_went:\n",
        "\n",
        "   if this_place_now == end_point:\n",
        "\n",
        "    return the_path_i_got # found it!\n",
        "\n",
        "\n",
        "\n",
        "   places_i_already_went.add(this_place_now)\n",
        "\n",
        "\n",
        "\n",
        "   for next_place_to_go in places.get(this_place_now, []):\n",
        "\n",
        "    check_these_places.append((next_place_to_go, the_path_i_got + [next_place_to_go])) # add to the list\n",
        "\n",
        "\n",
        "\n",
        " return None # guess there's no way\n",
        "\n",
        "\n",
        "\n",
        "my_place_connections = [\n",
        "\n",
        " ('S', 'A', 3), ('S', 'B', 6), ('S', 'C', 2),\n",
        "\n",
        " ('A', 'D', 3), ('B', 'E', 2), ('C', 'E', 1),\n",
        "\n",
        " ('D', 'F', 5), ('F', 'G', 5), ('E', 'H', 5),\n",
        "\n",
        " ('H', 'G', 5), ('B', 'G', 9), ('D', 'B', 4),\n",
        "\n",
        " ('E', 'F', 6)\n",
        "\n",
        "]\n",
        "\n",
        "\n",
        "\n",
        "connections_map = {} # make a thing to hold the places\n",
        "\n",
        "for place_from, place_to, distance_between in my_place_connections:\n",
        "\n",
        " connections_map.setdefault(place_from, []).append(place_to)\n",
        "\n",
        " connections_map.setdefault(place_to, []).append(place_from) # both ways!\n",
        "\n",
        "\n",
        "\n",
        "start_of_trip = 'S'\n",
        "\n",
        "end_of_trip = 'G'\n",
        "\n",
        "\n",
        "\n",
        "the_real_route = find_shortest_way(connections_map, start_of_trip, end_of_trip)\n",
        "\n",
        "\n",
        "\n",
        "if the_real_route:\n",
        "\n",
        " print(\"Found the shortest way! It's:\", the_real_route) # yay!\n",
        "\n",
        "else:\n",
        "\n",
        " print(\"Couldn't find a route :(\") # oh no"
      ]
    }
  ]
}