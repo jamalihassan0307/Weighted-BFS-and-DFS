{
  "nbformat": 4,
  "nbformat_minor": 0,
  "metadata": {
    "colab": {
      "provenance": []
    },
    "kernelspec": {
      "name": "python3",
      "display_name": "Python 3"
    },
    "language_info": {
      "name": "python"
    }
  },
  "cells": [
    {
      "cell_type": "code",
      "execution_count": 7,
      "metadata": {
        "colab": {
          "base_uri": "https://localhost:8080/"
        },
        "id": "wUryJPK-8hRk",
        "outputId": "ab65b7b4-e0e2-4b61-d1a4-7c7ec17d5924"
      },
      "outputs": [
        {
          "output_type": "stream",
          "name": "stdout",
          "text": [
            "Found the path! It's: ['S', 'C', 'E', 'F', 'G']\n"
          ]
        }
      ],
      "source": [
        "# Name: Ali Hassan\n",
        "# Student ID: F22BDOCS1E02011\n",
        "# Assignment: Assignment 1 - DFS.ipynb\n",
        "\n",
        "#Depth first search (DFS) code write in python\n",
        "\n",
        "\n",
        "\n",
        "def find_a_route(place_list, start_place, end_place):\n",
        "\n",
        " to_look_at = [(start_place, [start_place])] # make a list of places to check\n",
        "\n",
        " already_seen = set() # keep track of where i went\n",
        "\n",
        "\n",
        "\n",
        " while to_look_at:\n",
        "\n",
        "  current_spot, the_route_so_far = to_look_at.pop() # get the last one?\n",
        "\n",
        "\n",
        "\n",
        "  if current_spot not in already_seen:\n",
        "\n",
        "   if current_spot == end_place:\n",
        "\n",
        "    return the_route_so_far # found it!\n",
        "\n",
        "\n",
        "\n",
        "   already_seen.add(current_spot)\n",
        "\n",
        "\n",
        "\n",
        "   for next_place in place_list.get(current_spot, []):\n",
        "\n",
        "    to_look_at.append((next_place, the_route_so_far + [next_place])) # add more to check\n",
        "\n",
        "\n",
        "\n",
        " return None # guess there's no route?\n",
        "\n",
        "\n",
        "\n",
        "my_places_and_roads = [\n",
        "\n",
        " ('S', 'A', 3), ('S', 'B', 6), ('S', 'C', 2),\n",
        "\n",
        " ('A', 'D', 3), ('B', 'E', 2), ('C', 'E', 1),\n",
        "\n",
        " ('D', 'F', 5), ('F', 'G', 5), ('E', 'H', 5),\n",
        "\n",
        " ('H', 'G', 5), ('B', 'G', 9), ('D', 'B', 4),\n",
        "\n",
        " ('E', 'F', 6)\n",
        "\n",
        "]\n",
        "\n",
        "\n",
        "\n",
        "connections_between_places = {} # make a thing to hold the connections\n",
        "\n",
        "for place1, place2, distance in my_places_and_roads:\n",
        "\n",
        " connections_between_places.setdefault(place1, []).append(place2)\n",
        "\n",
        " connections_between_places.setdefault(place2, []).append(place1) # both ways!\n",
        "\n",
        "\n",
        "\n",
        "start_trip_here = 'S'\n",
        "\n",
        "end_trip_there = 'G'\n",
        "\n",
        "\n",
        "\n",
        "the_path_we_need = find_a_route(connections_between_places, start_trip_here, end_trip_there)\n",
        "\n",
        "\n",
        "\n",
        "if the_path_we_need:\n",
        "\n",
        " print(\"Found the path! It's:\", the_path_we_need) # yay!\n",
        "\n",
        "else:\n",
        "\n",
        " print(\"Couldn't find a path :(\") # oh no"
      ]
    }
  ]
}